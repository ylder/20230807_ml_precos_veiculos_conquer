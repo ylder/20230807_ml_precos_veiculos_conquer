{
 "cells": [
  {
   "cell_type": "code",
   "execution_count": 1,
   "metadata": {},
   "outputs": [],
   "source": [
    "# Bibliotecas\n",
    "import pandas as pd\n",
    "from modulo import AplicandoRegressao"
   ]
  },
  {
   "cell_type": "markdown",
   "metadata": {},
   "source": [
    "#### Dados"
   ]
  },
  {
   "cell_type": "code",
   "execution_count": 2,
   "metadata": {},
   "outputs": [
    {
     "name": "stdout",
     "output_type": "stream",
     "text": [
      "<class 'pandas.core.frame.DataFrame'>\n",
      "RangeIndex: 205 entries, 0 to 204\n",
      "Data columns (total 16 columns):\n",
      " #   Column            Non-Null Count  Dtype  \n",
      "---  ------            --------------  -----  \n",
      " 0   idCar             205 non-null    int64  \n",
      " 1   carname           205 non-null    object \n",
      " 2   wheelBase         205 non-null    float64\n",
      " 3   carLength         205 non-null    float64\n",
      " 4   carWidth          205 non-null    float64\n",
      " 5   carHeight         205 non-null    float64\n",
      " 6   curbWeight        205 non-null    int64  \n",
      " 7   engineSize        205 non-null    int64  \n",
      " 8   boreRatio         205 non-null    float64\n",
      " 9   stroke            205 non-null    float64\n",
      " 10  compressionRatio  205 non-null    float64\n",
      " 11  horsePower        205 non-null    int64  \n",
      " 12  peakRpm           205 non-null    int64  \n",
      " 13  cityMpg           205 non-null    int64  \n",
      " 14  highWaympg        205 non-null    int64  \n",
      " 15  price             205 non-null    float64\n",
      "dtypes: float64(8), int64(7), object(1)\n",
      "memory usage: 25.8+ KB\n"
     ]
    }
   ],
   "source": [
    "# Lendo dados\n",
    "df = pd.read_csv( 'veiculos.csv', sep = ';', decimal = ',' )\n",
    "\n",
    "# Vendo schema do dataframe\n",
    "df.info()"
   ]
  },
  {
   "cell_type": "code",
   "execution_count": 3,
   "metadata": {},
   "outputs": [
    {
     "name": "stdout",
     "output_type": "stream",
     "text": [
      "<class 'pandas.core.frame.DataFrame'>\n",
      "RangeIndex: 205 entries, 0 to 204\n",
      "Data columns (total 14 columns):\n",
      " #   Column            Non-Null Count  Dtype  \n",
      "---  ------            --------------  -----  \n",
      " 0   wheelBase         205 non-null    float64\n",
      " 1   carLength         205 non-null    float64\n",
      " 2   carWidth          205 non-null    float64\n",
      " 3   carHeight         205 non-null    float64\n",
      " 4   curbWeight        205 non-null    int64  \n",
      " 5   engineSize        205 non-null    int64  \n",
      " 6   boreRatio         205 non-null    float64\n",
      " 7   stroke            205 non-null    float64\n",
      " 8   compressionRatio  205 non-null    float64\n",
      " 9   horsePower        205 non-null    int64  \n",
      " 10  peakRpm           205 non-null    int64  \n",
      " 11  cityMpg           205 non-null    int64  \n",
      " 12  highWaympg        205 non-null    int64  \n",
      " 13  price             205 non-null    float64\n",
      "dtypes: float64(8), int64(6)\n",
      "memory usage: 22.5 KB\n"
     ]
    }
   ],
   "source": [
    "# Removendo colunas str\n",
    "df = df.drop( ['carname', 'idCar'], axis = 1 )\n",
    "\n",
    "# Vendo schema do dataframe\n",
    "df.info()"
   ]
  },
  {
   "cell_type": "markdown",
   "metadata": {},
   "source": [
    "## Regressão"
   ]
  },
  {
   "cell_type": "code",
   "execution_count": 4,
   "metadata": {},
   "outputs": [],
   "source": [
    "# Instância de módulo regressor\n",
    "reg = AplicandoRegressao(df, y='price')"
   ]
  },
  {
   "cell_type": "code",
   "execution_count": 5,
   "metadata": {},
   "outputs": [
    {
     "name": "stdout",
     "output_type": "stream",
     "text": [
      "As colunas selecionadas para prever o preço dos veículos são:\n",
      " \n",
      "['curbWeight', 'engineSize', 'stroke', 'horsePower', 'peakRpm']\n"
     ]
    }
   ],
   "source": [
    "print(\n",
    "    'As colunas selecionadas para prever o preço dos veículos são:\\n',\n",
    "    f'\\n{reg.melhores_colunas}'\n",
    ")"
   ]
  },
  {
   "cell_type": "code",
   "execution_count": 6,
   "metadata": {},
   "outputs": [
    {
     "name": "stdout",
     "output_type": "stream",
     "text": [
      "Avaliação dos resultados do modelos:\n",
      "\n",
      "Mean Absolute Error 1,961.5913\n",
      "Mean Absolute Percentage Error 18.97%\n",
      "Mean Squared Error 6,595,073.8177\n",
      "R-squared 91.77%\n",
      "\n",
      "Valor base de y:\n",
      " -23,589.56\n",
      "\n",
      "Valores de coeficientes de cada variável X:\n",
      "\n",
      "curbWeight 4.5323\n",
      "engineSize 110.1038\n",
      "stroke 1.5012\n",
      "horsePower 22.1598\n",
      "peakRpm 1.7304\n"
     ]
    }
   ],
   "source": [
    "print('Avaliação dos resultados do modelos:\\n')\n",
    "for col, valor in reg.resultados_regressao().items():\n",
    "    (\n",
    "        print(col, f'{valor:,.4f}') if col in ['Mean Absolute Error', 'Mean Squared Error'] else\n",
    "        print(col, f'{valor:,.2%}')\n",
    "    )\n",
    "\n",
    "print('\\nValor base de y:\\n', f'{reg.intercessao:,.2f}')\n",
    "\n",
    "print('\\nValores de coeficientes de cada variável X:\\n')\n",
    "for col, valor in reg.coeficientes.items():\n",
    "    print(col, f'{valor:,.4f}')"
   ]
  }
 ],
 "metadata": {
  "kernelspec": {
   "display_name": "venv",
   "language": "python",
   "name": "python3"
  },
  "language_info": {
   "codemirror_mode": {
    "name": "ipython",
    "version": 3
   },
   "file_extension": ".py",
   "mimetype": "text/x-python",
   "name": "python",
   "nbconvert_exporter": "python",
   "pygments_lexer": "ipython3",
   "version": "3.10.9"
  }
 },
 "nbformat": 4,
 "nbformat_minor": 2
}
